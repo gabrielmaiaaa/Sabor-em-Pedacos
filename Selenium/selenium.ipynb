{
 "cells": [
  {
   "cell_type": "code",
   "execution_count": null,
   "metadata": {
    "vscode": {
     "languageId": "plaintext"
    }
   },
   "outputs": [],
   "source": [
    "from selenium import webdriver\n",
    "\n",
    "# definindo que usaremos o Firefox sem carregar a página graficamente\n",
    "driver = webdriver.Firefox()\n",
    "driver.get('http://google.com.br')\n",
    "print(\"Página carregada.\")"
   ]
  }
 ],
 "metadata": {
  "language_info": {
   "name": "python"
  }
 },
 "nbformat": 4,
 "nbformat_minor": 2
}
